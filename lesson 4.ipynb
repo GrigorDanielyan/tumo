{
 "cells": [
  {
   "cell_type": "code",
   "execution_count": 1,
   "metadata": {
    "collapsed": false,
    "deletable": true,
    "editable": true
   },
   "outputs": [
    {
     "name": "stdout",
     "output_type": "stream",
     "text": [
      "126 Lilo  12.5 8.2 7.1 3.2\n",
      "456 Steve 4.0 10.4 6.5 2.7 12\n",
      "789 Janne 6.0 8.0 8.0 8.5 7.5\n",
      "\n"
     ]
    }
   ],
   "source": [
    "f = open('data.txt','r')\n",
    "s = f.read()\n",
    "f.close()\n",
    "print(s)"
   ]
  },
  {
   "cell_type": "code",
   "execution_count": 5,
   "metadata": {
    "collapsed": false,
    "deletable": true,
    "editable": true
   },
   "outputs": [
    {
     "name": "stdout",
     "output_type": "stream",
     "text": [
      "126 Lilo  12.5 8.2 7.1 3.2\n",
      "456 Steve 4.0 10.4 6.5 2.7 12\n",
      "789 Janne 6.0 8.0 8.0 8.5 7.5\n"
     ]
    }
   ],
   "source": [
    "def numWords(filename):\n",
    "    '''returns the number of words in file   \n",
    "    filename'''\n",
    "\n",
    "    infile = open(filename)\n",
    "    content = infile.read()\n",
    "    infile.close()\n",
    "    wordList = content.split()\n",
    "\n",
    "    return len(wordList)\n",
    "numWords('data.txt')\n",
    "\n",
    "input = open(\"data.txt\")\n",
    "for line in input:\n",
    "    print(line.strip())\n",
    "input.close()\n",
    "\n",
    "w = open('test.txt','w')\n",
    "w.write('This is sparta\\n')\n",
    "w.write('the end')\n",
    "w.close()"
   ]
  },
  {
   "cell_type": "code",
   "execution_count": 19,
   "metadata": {
    "collapsed": false,
    "deletable": true,
    "editable": true,
    "scrolled": false
   },
   "outputs": [
    {
     "name": "stdout",
     "output_type": "stream",
     "text": [
      "This is sparta\n",
      "the endThis is sparta\n",
      "the end\n",
      "\n",
      "This is sparta\n",
      "the end\n",
      "This is sparta\n",
      "the end\n",
      "This is sparta\n",
      "the end\n",
      "This is sparta\n",
      "the end\n",
      "This is sparta\n",
      "the end\n",
      "This is sparta\n",
      "the end\n",
      "This is sparta\n",
      "the end\n",
      "This is sparta\n",
      "the end\n",
      "This is sparta\n",
      "the end\n",
      "This is sparta\n",
      "the end\n",
      "This is sparta\n",
      "the end\n",
      "This is sparta\n",
      "the end\n",
      "This is sparta\n",
      "the end\n",
      "\n"
     ]
    }
   ],
   "source": [
    "w = open('test.txt','a')\n",
    "w.write('This is sparta\\n')\n",
    "w.write('the end\\n')\n",
    "w.close()\n",
    "\n",
    "f = open('test.txt','r')\n",
    "s = f.read()\n",
    "f.close()\n",
    "print(s)"
   ]
  },
  {
   "cell_type": "code",
   "execution_count": 21,
   "metadata": {
    "collapsed": false,
    "deletable": true,
    "editable": true
   },
   "outputs": [
    {
     "name": "stdout",
     "output_type": "stream",
     "text": [
      "This is sparta\n",
      "the endThis is sparta\n",
      "the end\n",
      "\n",
      "This is sparta\n",
      "the end\n",
      "This is sparta\n",
      "the end\n",
      "This is sparta\n",
      "the end\n",
      "This is sparta\n",
      "the end\n",
      "This is sparta\n",
      "the end\n",
      "This is sparta\n",
      "the end\n",
      "This is sparta\n",
      "the end\n",
      "This is sparta\n",
      "the end\n",
      "This is sparta\n",
      "the end\n",
      "This is sparta\n",
      "the end\n",
      "This is sparta\n",
      "the end\n",
      "This is sparta\n",
      "the end\n",
      "This is sparta\n",
      "the end\n",
      "This is sparta\n",
      "the end\n",
      "\n"
     ]
    }
   ],
   "source": [
    "with open('test.txt','a') as w:\n",
    "    w.write('This is sparta\\n')\n",
    "    w.write('the end\\n')\n",
    "\n",
    "with open('test.txt','r') as f:\n",
    "    s = f.read()\n",
    "print(s)"
   ]
  },
  {
   "cell_type": "code",
   "execution_count": null,
   "metadata": {
    "collapsed": true,
    "deletable": true,
    "editable": true
   },
   "outputs": [],
   "source": []
  }
 ],
 "metadata": {
  "kernelspec": {
   "display_name": "Python 3",
   "language": "python",
   "name": "python3"
  },
  "language_info": {
   "codemirror_mode": {
    "name": "ipython",
    "version": 3
   },
   "file_extension": ".py",
   "mimetype": "text/x-python",
   "name": "python",
   "nbconvert_exporter": "python",
   "pygments_lexer": "ipython3",
   "version": "3.6.0"
  }
 },
 "nbformat": 4,
 "nbformat_minor": 2
}
