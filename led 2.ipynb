{
 "cells": [
  {
   "cell_type": "code",
   "execution_count": null,
   "metadata": {
    "collapsed": false,
    "deletable": true,
    "editable": true
   },
   "outputs": [],
   "source": [
    "import tensorflow as tf\n",
    "with tf.Session() as sess:\n",
    "    input=tf.constant(3.6)   \n",
    "    weight=tf.Variable(2.0)\n",
    "    init_op=tf.global_variables_initializer()\n",
    "    output=input*weight\n",
    "    sess.run(init_op)\n",
    "    sess.run(output)\n",
    "    #import tensorflow as tf\n",
    "    writer = tf.summary.FileWriter(\"kaputak\", sess.graph)"
   ]
  },
  {
   "cell_type": "code",
   "execution_count": null,
   "metadata": {
    "collapsed": false,
    "deletable": true,
    "editable": true
   },
   "outputs": [],
   "source": [
    "!tensorboard --logdir=\"kaputak\" --port=6003"
   ]
  },
  {
   "cell_type": "code",
   "execution_count": 2,
   "metadata": {
    "collapsed": true,
    "deletable": true,
    "editable": true
   },
   "outputs": [],
   "source": [
    "import tensorflow as tf\n",
    "with tf.Session() as sess:\n",
    "    input=tf.constant(3.2)   \n",
    "    output=tf.Variable(10.0)\n",
    "    init_op=tf.global_variables_initializer()\n",
    "    weight=input/output\n",
    "    sess.run(init_op) \n",
    "    #sess.run(output)\n",
    "    #import tensorflow as tf\n",
    "    #writer = tf.summary.FileWriter(\"kaputak\", sess.graph)"
   ]
  },
  {
   "cell_type": "code",
   "execution_count": 1,
   "metadata": {
    "collapsed": false,
    "deletable": true,
    "editable": true
   },
   "outputs": [
    {
     "name": "stdout",
     "output_type": "stream",
     "text": [
      "2.0\n",
      "6.4\n",
      "2.576\n",
      "8.2432\n",
      "2.85709\n",
      "9.14268\n",
      "2.99426\n",
      "9.58163\n",
      "3.0612\n",
      "9.79583\n",
      "3.09386\n",
      "9.90037\n",
      "3.10981\n",
      "9.95138\n",
      "3.11759\n",
      "9.97627\n",
      "3.12138\n",
      "9.98842\n",
      "3.12323\n",
      "9.99435\n",
      "3.12414\n",
      "9.99724\n",
      "3.12458\n",
      "9.99865\n",
      "3.12479\n",
      "9.99934\n",
      "3.1249\n",
      "9.99968\n",
      "3.12495\n",
      "9.99984\n",
      "3.12498\n",
      "9.99992\n",
      "3.12499\n",
      "9.99996\n",
      "3.12499\n",
      "9.99998\n",
      "3.125\n",
      "9.99999\n",
      "3.125\n",
      "10.0\n"
     ]
    }
   ],
   "source": [
    "import tensorflow as tf\n",
    "\n",
    "\n",
    "\n",
    "input0 = tf.constant(3.2)\n",
    "weight = tf.Variable(2.0)\n",
    "output_=tf.constant(10.0)\n",
    "\n",
    "output = input0*weight\n",
    "\n",
    "loss = (output - output_)**2\n",
    "\n",
    "train_step = tf.train.GradientDescentOptimizer(0.025).minimize(loss)\n",
    "\n",
    "with tf.Session() as sess:\n",
    "    sess.run(tf.global_variables_initializer())\n",
    "    for i in range(20):\n",
    "        print(sess.run(weight))\n",
    "        print(sess.run(output))\n",
    "        sess.run(train_step)\n",
    "        \n",
    "\n",
    "\n",
    "# b = tf.global_variables_initializer()\n",
    "# with tf.Session() as a:\n",
    "    \n",
    "#     a.run(b)    \n",
    "#     print(a.run(output))\n",
    "    \n",
    "    \n",
    "#graph_writer = tf.summary.FileWriter(\"asdasd\", graph=tf.get_default_graph())"
   ]
  },
  {
   "cell_type": "code",
   "execution_count": null,
   "metadata": {
    "collapsed": true
   },
   "outputs": [],
   "source": []
  }
 ],
 "metadata": {
  "kernelspec": {
   "display_name": "Python 3",
   "language": "python",
   "name": "python3"
  },
  "language_info": {
   "codemirror_mode": {
    "name": "ipython",
    "version": 3
   },
   "file_extension": ".py",
   "mimetype": "text/x-python",
   "name": "python",
   "nbconvert_exporter": "python",
   "pygments_lexer": "ipython3",
   "version": "3.6.0"
  }
 },
 "nbformat": 4,
 "nbformat_minor": 2
}
