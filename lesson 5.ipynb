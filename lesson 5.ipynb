{
 "cells": [
  {
   "cell_type": "code",
   "execution_count": 1,
   "metadata": {
    "collapsed": false,
    "deletable": true,
    "editable": true
   },
   "outputs": [
    {
     "data": {
      "text/plain": [
       "55"
      ]
     },
     "execution_count": 1,
     "metadata": {},
     "output_type": "execute_result"
    }
   ],
   "source": [
    "def fibonacci(bound):\n",
    "    p = 1 # previous      \n",
    "    c = 1 # current\n",
    "    while c <= bound:\n",
    "        p,c = c,p+c\n",
    "    return c\n",
    "fibonacci(34)"
   ]
  },
  {
   "cell_type": "code",
   "execution_count": 2,
   "metadata": {
    "collapsed": false,
    "deletable": true,
    "editable": true,
    "scrolled": false
   },
   "outputs": [
    {
     "name": "stdout",
     "output_type": "stream",
     "text": [
      "Enter city: 15\n",
      "Enter city: 1486\n",
      "Enter city: refg\n",
      "Enter city: fsdh\n",
      "Enter city: fdshgs\n",
      "Enter city: h[ghf\n",
      "Enter city: adfh\n",
      "Enter city: fd\n",
      "Enter city: h\n",
      "Enter city: fadh\n",
      "Enter city: fad\n",
      "Enter city: \n"
     ]
    },
    {
     "data": {
      "text/plain": [
       "['15',\n",
       " '1486',\n",
       " 'refg',\n",
       " 'fsdh',\n",
       " 'fdshgs',\n",
       " 'h[ghf',\n",
       " 'adfh',\n",
       " 'fd',\n",
       " 'h',\n",
       " 'fadh',\n",
       " 'fad']"
      ]
     },
     "execution_count": 2,
     "metadata": {},
     "output_type": "execute_result"
    }
   ],
   "source": [
    "def cities():\n",
    "    lst = []\n",
    "    \n",
    "    city = input('Enter city: ')\n",
    "\n",
    "    while city != '':\n",
    "        lst.append(city)\n",
    "        city = input('Enter city: ')\n",
    "\n",
    "    return lst\n",
    "cities()"
   ]
  },
  {
   "cell_type": "code",
   "execution_count": 8,
   "metadata": {
    "collapsed": false,
    "deletable": true,
    "editable": true
   },
   "outputs": [
    {
     "name": "stdout",
     "output_type": "stream",
     "text": [
      "Enter city: 165\n",
      "Enter city: 56\n",
      "Enter city: 1\n",
      "Enter city: 651\n",
      "Enter city: 51\n",
      "Enter city: 1\n",
      "Enter city: 6\n",
      "Enter city: 151\n",
      "Enter city: \n"
     ]
    },
    {
     "data": {
      "text/plain": [
       "['165', '56', '1', '651', '51', '1', '6', '151']"
      ]
     },
     "execution_count": 8,
     "metadata": {},
     "output_type": "execute_result"
    }
   ],
   "source": [
    "def cities3():\n",
    "    lst = []\n",
    "    while True:\n",
    "        city = input('Enter city: ')\n",
    "\n",
    "        if city == '':\n",
    "            break\n",
    "\n",
    "        lst.append(city)\n",
    "\n",
    "    return lst\n",
    "cities3()"
   ]
  },
  {
   "cell_type": "code",
   "execution_count": 10,
   "metadata": {
    "collapsed": false,
    "deletable": true,
    "editable": true
   },
   "outputs": [
    {
     "name": "stdout",
     "output_type": "stream",
     "text": [
      "2 3 6 \n",
      "3 4 5 \n",
      "4 5 6 \n"
     ]
    }
   ],
   "source": [
    "def ignore(table):\n",
    "    for row in table:\n",
    "        for num in row:\n",
    "            if num == 0:\n",
    "                continue\n",
    "            print(num, end=' ')\n",
    "        print() \n",
    "\n",
    "table = [\n",
    "  [2, 3, 0, 6],\n",
    "  [0, 3, 4, 5],\n",
    "  [4, 5, 6, 0]\n",
    "]\n",
    "\n",
    "ignore(table)"
   ]
  },
  {
   "cell_type": "code",
   "execution_count": 13,
   "metadata": {
    "collapsed": false,
    "deletable": true,
    "editable": true
   },
   "outputs": [],
   "source": [
    "employee = {\n",
    "    '864-20': ['Arm', 'Spartyan'],\n",
    "    '987-65': ['Vlad', 'Tundyan'],\n",
    "    '100-01': ['Kiazh', 'Damyan']}\n",
    "\n",
    "days = {'Mo': 1, 'Tu': 2, 'Th': 4, 'W': 3}\n",
    "\n",
    "# emp = {[1,2]:1,[2,3]:3} # error\n",
    "\n",
    "days = {'Mo':1, 'Tu':2, 'W':3}\n",
    "\n",
    "days2 = {'Tu':2, 'Fr':5}"
   ]
  },
  {
   "cell_type": "code",
   "execution_count": 18,
   "metadata": {
    "collapsed": false,
    "deletable": true,
    "editable": true
   },
   "outputs": [],
   "source": [
    "employee['864-20'] = 'sparta'"
   ]
  },
  {
   "cell_type": "code",
   "execution_count": 19,
   "metadata": {
    "collapsed": false,
    "deletable": true,
    "editable": true
   },
   "outputs": [
    {
     "data": {
      "text/plain": [
       "{'100-01': ['Kiazh', 'Damyan'],\n",
       " '864-20': 'sparta',\n",
       " '987-65': ['Vlad', 'Tundyan']}"
      ]
     },
     "execution_count": 19,
     "metadata": {},
     "output_type": "execute_result"
    }
   ],
   "source": [
    "employee"
   ]
  },
  {
   "cell_type": "code",
   "execution_count": 22,
   "metadata": {
    "collapsed": false,
    "deletable": true,
    "editable": true
   },
   "outputs": [
    {
     "data": {
      "text/plain": [
       "dict"
      ]
     },
     "execution_count": 22,
     "metadata": {},
     "output_type": "execute_result"
    }
   ],
   "source": [
    "empty = {}\n",
    "type(empty)"
   ]
  },
  {
   "cell_type": "code",
   "execution_count": 30,
   "metadata": {
    "collapsed": false,
    "deletable": true,
    "editable": true
   },
   "outputs": [
    {
     "name": "stdout",
     "output_type": "stream",
     "text": [
      "Mo 1\n",
      "Tu 2\n",
      "W 3\n"
     ]
    }
   ],
   "source": [
    "for i in days:\n",
    "    print(i, days[i])"
   ]
  },
  {
   "cell_type": "code",
   "execution_count": 38,
   "metadata": {
    "collapsed": false,
    "deletable": true,
    "editable": true
   },
   "outputs": [
    {
     "data": {
      "text/plain": [
       "{85: 1, 90: 1, 95: 3, 96: 1, 100: 3}"
      ]
     },
     "execution_count": 38,
     "metadata": {},
     "output_type": "execute_result"
    }
   ],
   "source": [
    "def frequency(itemList):\n",
    "    'returns frequency of items in itemList'\n",
    "\n",
    "    counters = {}\n",
    "    for item in itemList:\n",
    "        if item in counters: # increment item counter\n",
    "            counters[item] += 1\n",
    "        else: # create item counter\n",
    "            counters[item] = 1\n",
    "    return counters\n",
    "grades = [95, 96, 100, 85, 95, 90, 95, 100, 100]\n",
    "frequency(grades)"
   ]
  },
  {
   "cell_type": "code",
   "execution_count": 37,
   "metadata": {
    "collapsed": false,
    "deletable": true,
    "editable": true
   },
   "outputs": [],
   "source": [
    "grades = [95, 96, 100, 85, 95, 90, 95, 100, 100]\n",
    "\n",
    "counters = {}\n",
    "for item in grades:\n",
    "    if item in counters: # increment item counter\n",
    "        counters[item] += 1\n",
    "    else: # create item counter\n",
    "        counters[item] = 1"
   ]
  },
  {
   "cell_type": "code",
   "execution_count": 3,
   "metadata": {
    "collapsed": false,
    "deletable": true,
    "editable": true
   },
   "outputs": [],
   "source": [
    "emp = {(1,2):1,(2,3):3}"
   ]
  },
  {
   "cell_type": "code",
   "execution_count": 4,
   "metadata": {
    "collapsed": false
   },
   "outputs": [
    {
     "data": {
      "text/plain": [
       "{(1, 2): 1, (2, 3): 3}"
      ]
     },
     "execution_count": 4,
     "metadata": {},
     "output_type": "execute_result"
    }
   ],
   "source": [
    "emp"
   ]
  },
  {
   "cell_type": "code",
   "execution_count": null,
   "metadata": {
    "collapsed": true
   },
   "outputs": [],
   "source": []
  }
 ],
 "metadata": {
  "kernelspec": {
   "display_name": "Python 3",
   "language": "python",
   "name": "python3"
  },
  "language_info": {
   "codemirror_mode": {
    "name": "ipython",
    "version": 3
   },
   "file_extension": ".py",
   "mimetype": "text/x-python",
   "name": "python",
   "nbconvert_exporter": "python",
   "pygments_lexer": "ipython3",
   "version": "3.6.0"
  }
 },
 "nbformat": 4,
 "nbformat_minor": 2
}
